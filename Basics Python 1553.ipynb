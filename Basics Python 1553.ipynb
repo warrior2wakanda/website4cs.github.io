{
  "nbformat": 4,
  "nbformat_minor": 0,
  "metadata": {
    "colab": {
      "provenance": [],
      "authorship_tag": "ABX9TyOPCGhWGbJazZ2uwa6+Xqu1",
      "include_colab_link": true
    },
    "kernelspec": {
      "name": "python3",
      "display_name": "Python 3"
    },
    "language_info": {
      "name": "python"
    }
  },
  "cells": [
    {
      "cell_type": "markdown",
      "metadata": {
        "id": "view-in-github",
        "colab_type": "text"
      },
      "source": [
        "<a href=\"https://colab.research.google.com/github/warrior2wakanda/website4cs.github.io/blob/main/Basics%20Python%201553.ipynb\" target=\"_parent\"><img src=\"https://colab.research.google.com/assets/colab-badge.svg\" alt=\"Open In Colab\"/></a>"
      ]
    },
    {
      "cell_type": "markdown",
      "source": [
        "# Basic programs"
      ],
      "metadata": {
        "id": "c80_huW26P7H"
      }
    },
    {
      "cell_type": "code",
      "source": [
        "print(\"Hello\")"
      ],
      "metadata": {
        "colab": {
          "base_uri": "https://localhost:8080/"
        },
        "id": "L30HKFKt6WlY",
        "outputId": "77cb6f58-a3d5-4a9c-971f-51f063833267"
      },
      "execution_count": null,
      "outputs": [
        {
          "output_type": "stream",
          "name": "stdout",
          "text": [
            "Hello\n"
          ]
        }
      ]
    },
    {
      "cell_type": "markdown",
      "source": [
        "####sum of two numbers"
      ],
      "metadata": {
        "id": "M4WRdynop_ob"
      }
    },
    {
      "cell_type": "code",
      "source": [
        "x=5\n",
        "y=9\n",
        "\n",
        "print(x+y)"
      ],
      "metadata": {
        "id": "ppPalW0y-VhM",
        "colab": {
          "base_uri": "https://localhost:8080/"
        },
        "outputId": "eb36987e-c00b-4833-f733-aade46c08484"
      },
      "execution_count": 1,
      "outputs": [
        {
          "output_type": "stream",
          "name": "stdout",
          "text": [
            "14\n"
          ]
        }
      ]
    },
    {
      "cell_type": "markdown",
      "source": [
        "####Area of Circle"
      ],
      "metadata": {
        "id": "ds0fiTmvp69F"
      }
    },
    {
      "cell_type": "code",
      "source": [
        "pi=3.14152\n",
        "r=int(input(\"enter a radius:\"))\n",
        "\n",
        "area_of_circle= pi*(r**2)\n",
        "print(area_of_circle)"
      ],
      "metadata": {
        "id": "x8B-0Wd7AS60",
        "colab": {
          "base_uri": "https://localhost:8080/"
        },
        "outputId": "41f4165e-0fb9-4092-fbbd-bc805626ce18"
      },
      "execution_count": 6,
      "outputs": [
        {
          "output_type": "stream",
          "name": "stdout",
          "text": [
            "enter a radius:3\n",
            "28.27368\n"
          ]
        }
      ]
    },
    {
      "cell_type": "markdown",
      "source": [
        "####Simple interest-Compund Interest"
      ],
      "metadata": {
        "id": "j49M44SgqNQp"
      }
    },
    {
      "cell_type": "code",
      "source": [
        "p= int(input(\"Principal:\"))\n",
        "r= int(input(\"Rate\"))\n",
        "t= int(input(\"Time\"))\n",
        "\n",
        "Simple_Interest= p*r*t\n",
        "\n",
        "print(Simple_Interest)"
      ],
      "metadata": {
        "id": "5MSh-iq_peVM"
      },
      "execution_count": null,
      "outputs": []
    },
    {
      "cell_type": "code",
      "source": [
        "P=int(input(\"enter Principal\"))\n",
        "r= int(input(\"enter interest rate:\"))\n",
        "n= int(input(\"enter number of times interest compounded in a year:\"))\n",
        "t= int(input(\"enter time in years:\"))\n",
        "\n",
        "Amount= P*(1+((r/n)**(n*t)))\n",
        "\n",
        "Compound_Interest= Amount-P\n",
        "\n",
        "print(Amount)\n",
        "print (Compound_Interest)"
      ],
      "metadata": {
        "colab": {
          "base_uri": "https://localhost:8080/"
        },
        "id": "LrR-zBc4uLOg",
        "outputId": "023035fc-e8ba-4d1f-c4db-bb7d12fca435"
      },
      "execution_count": 10,
      "outputs": [
        {
          "output_type": "stream",
          "name": "stdout",
          "text": [
            "enter Principal9\n",
            "enter interest rate:2\n",
            "enter number of times interest compounded in a year:4\n",
            "enter time in years:1\n",
            "9.5625\n",
            "0.5625\n"
          ]
        }
      ]
    },
    {
      "cell_type": "code",
      "execution_count": null,
      "metadata": {
        "id": "hXoNu9JnzFRJ"
      },
      "outputs": [],
      "source": []
    }
  ]
}